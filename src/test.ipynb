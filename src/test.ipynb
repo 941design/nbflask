{
 "cells": [
  {
   "cell_type": "code",
   "execution_count": null,
   "metadata": {},
   "outputs": [],
   "source": [
    "# The first cell is reserved for parameter declaration used by nbparameterise.\n",
    "# Must initialize as string!\n",
    "polynome = \"NOT SET\""
   ]
  },
  {
   "cell_type": "code",
   "execution_count": null,
   "metadata": {},
   "outputs": [],
   "source": [
    "%matplotlib inline\n",
    "\n",
    "# disable warnings in output:\n",
    "import warnings\n",
    "warnings.filterwarnings('ignore')\n",
    "\n",
    "# enable interpolated markdown generation\n",
    "from IPython.display import display, Markdown\n",
    "\n",
    "import matplotlib\n",
    "\n",
    "import datetime as dt\n",
    "import numpy as np\n",
    "import pandas as pd\n",
    "\n",
    "from functools import reduce\n",
    "from matplotlib import cm\n",
    "from matplotlib import pyplot as plt"
   ]
  },
  {
   "cell_type": "markdown",
   "metadata": {},
   "source": [
    "# Example\n"
   ]
  },
  {
   "cell_type": "code",
   "execution_count": null,
   "metadata": {},
   "outputs": [],
   "source": [
    "display(Markdown(f'''Received polynome parameters: **{ polynome }**'''))"
   ]
  },
  {
   "cell_type": "code",
   "execution_count": null,
   "metadata": {},
   "outputs": [],
   "source": [
    "s = '+'.join(f'{\"\" if n == 1 else n if n % 1 else int(n)}{f\"x^{exp}\" if exp > 1 else \"x\" if exp == 1 else \"\"}' \n",
    "               for exp,n in reversed(list(enumerate(reversed(polynome)))) if n!=0) or '0'\n",
    "s = s.replace('+-', '-')\n",
    "\n",
    "display(Markdown(f'''Evaluating function: $fn(x)={ s }$'''))"
   ]
  },
  {
   "cell_type": "markdown",
   "metadata": {},
   "source": [
    "plotting function from given parameters:"
   ]
  },
  {
   "cell_type": "code",
   "execution_count": null,
   "metadata": {},
   "outputs": [],
   "source": [
    "fn = lambda x: sum(n*x**exp for exp,n in enumerate(reversed(polynome)))\n",
    "pd.DataFrame([(x, fn(x)) for x in np.linspace(-10, 10, num=1000)], columns=['x', 'f(x)']).set_index('x').plot();"
   ]
  }
 ],
 "metadata": {
  "kernelspec": {
   "display_name": "Python 3",
   "language": "python",
   "name": "python3"
  },
  "language_info": {
   "codemirror_mode": {
    "name": "ipython",
    "version": 3
   },
   "file_extension": ".py",
   "mimetype": "text/x-python",
   "name": "python",
   "nbconvert_exporter": "python",
   "pygments_lexer": "ipython3",
   "version": "3.10.5"
  }
 },
 "nbformat": 4,
 "nbformat_minor": 4
}
